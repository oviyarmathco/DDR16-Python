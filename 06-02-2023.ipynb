{
 "cells": [
  {
   "cell_type": "code",
   "execution_count": 5,
   "id": "00e12c2f",
   "metadata": {},
   "outputs": [
    {
     "name": "stdout",
     "output_type": "stream",
     "text": [
      "hello world\n"
     ]
    }
   ],
   "source": [
    "print(\"hello world\")"
   ]
  },
  {
   "cell_type": "markdown",
   "id": "e59ce37e",
   "metadata": {},
   "source": [
    "# Comments\n"
   ]
  },
  {
   "cell_type": "code",
   "execution_count": 4,
   "id": "f6a0f613",
   "metadata": {},
   "outputs": [],
   "source": [
    "#single line cmment"
   ]
  },
  {
   "cell_type": "code",
   "execution_count": 7,
   "id": "61f6dd22",
   "metadata": {},
   "outputs": [
    {
     "data": {
      "text/plain": [
       "'\"Multiple \\nline\\ncomment'"
      ]
     },
     "execution_count": 7,
     "metadata": {},
     "output_type": "execute_result"
    }
   ],
   "source": [
    "\"\"\"\"Multiple \n",
    "line\n",
    "comment\"\"\""
   ]
  },
  {
   "cell_type": "markdown",
   "id": "90fc09ef",
   "metadata": {},
   "source": [
    "# Variables\n",
    "    1. Number should not be in the first letter in the variable name\n",
    "    2.No characters in the beginning except underscore\n",
    "    "
   ]
  },
  {
   "cell_type": "code",
   "execution_count": 19,
   "id": "f2e7ce3d",
   "metadata": {},
   "outputs": [],
   "source": [
    "a=10\n",
    "b=3.124\n",
    "c=\"oviya\""
   ]
  },
  {
   "cell_type": "code",
   "execution_count": 20,
   "id": "51c3ccf1",
   "metadata": {},
   "outputs": [
    {
     "data": {
      "text/plain": [
       "(10, 3.124, 'oviya')"
      ]
     },
     "execution_count": 20,
     "metadata": {},
     "output_type": "execute_result"
    }
   ],
   "source": [
    "a,b,c"
   ]
  },
  {
   "cell_type": "code",
   "execution_count": 21,
   "id": "2830e7a3",
   "metadata": {},
   "outputs": [
    {
     "data": {
      "text/plain": [
       "int"
      ]
     },
     "execution_count": 21,
     "metadata": {},
     "output_type": "execute_result"
    }
   ],
   "source": [
    "type(a)"
   ]
  },
  {
   "cell_type": "code",
   "execution_count": 22,
   "id": "4c6794c9",
   "metadata": {},
   "outputs": [
    {
     "data": {
      "text/plain": [
       "float"
      ]
     },
     "execution_count": 22,
     "metadata": {},
     "output_type": "execute_result"
    }
   ],
   "source": [
    "type(b)"
   ]
  },
  {
   "cell_type": "code",
   "execution_count": 23,
   "id": "28d7d3fd",
   "metadata": {},
   "outputs": [
    {
     "data": {
      "text/plain": [
       "str"
      ]
     },
     "execution_count": 23,
     "metadata": {},
     "output_type": "execute_result"
    }
   ],
   "source": [
    "type(c)"
   ]
  },
  {
   "cell_type": "code",
   "execution_count": 24,
   "id": "e2b861b5",
   "metadata": {},
   "outputs": [],
   "source": [
    "a=b=c=10"
   ]
  },
  {
   "cell_type": "code",
   "execution_count": 25,
   "id": "dcc4fb96",
   "metadata": {},
   "outputs": [
    {
     "data": {
      "text/plain": [
       "(10, 10, 10)"
      ]
     },
     "execution_count": 25,
     "metadata": {},
     "output_type": "execute_result"
    }
   ],
   "source": [
    "a,b,c"
   ]
  },
  {
   "cell_type": "markdown",
   "id": "3cb68151",
   "metadata": {},
   "source": [
    "It replaces the existing value and new value only will be printed"
   ]
  },
  {
   "cell_type": "code",
   "execution_count": 12,
   "id": "10605c9b",
   "metadata": {},
   "outputs": [
    {
     "data": {
      "text/plain": [
       "int"
      ]
     },
     "execution_count": 12,
     "metadata": {},
     "output_type": "execute_result"
    }
   ],
   "source": [
    "type(a)"
   ]
  },
  {
   "cell_type": "code",
   "execution_count": 13,
   "id": "46e20c25",
   "metadata": {},
   "outputs": [
    {
     "data": {
      "text/plain": [
       "int"
      ]
     },
     "execution_count": 13,
     "metadata": {},
     "output_type": "execute_result"
    }
   ],
   "source": [
    "type(b)\n"
   ]
  },
  {
   "cell_type": "code",
   "execution_count": 14,
   "id": "693ae1f7",
   "metadata": {},
   "outputs": [
    {
     "data": {
      "text/plain": [
       "int"
      ]
     },
     "execution_count": 14,
     "metadata": {},
     "output_type": "execute_result"
    }
   ],
   "source": [
    "type(c)"
   ]
  },
  {
   "cell_type": "markdown",
   "id": "d831b5a8",
   "metadata": {},
   "source": [
    "#   Keywords\n",
    "        False None true and as assert async break ....(35 keywords)\n",
    "        \n",
    "        Function without name-anonoymous function - lambda (keyword)"
   ]
  },
  {
   "cell_type": "code",
   "execution_count": 26,
   "id": "4051f32c",
   "metadata": {},
   "outputs": [
    {
     "name": "stdout",
     "output_type": "stream",
     "text": [
      "welcome to python\n",
      "Python is high level language\n"
     ]
    }
   ],
   "source": [
    "print(\"welcome to python\")\n",
    "print(\"Python is high level language\")"
   ]
  },
  {
   "cell_type": "code",
   "execution_count": 28,
   "id": "8f7b5dad",
   "metadata": {},
   "outputs": [
    {
     "name": "stdout",
     "output_type": "stream",
     "text": [
      "welcome to python Python is high level language\n"
     ]
    }
   ],
   "source": [
    "print(\"welcome to python\",end=\" \")\n",
    "print(\"Python is high level language\")\n",
    "# Print in same line"
   ]
  },
  {
   "cell_type": "code",
   "execution_count": 29,
   "id": "7fa3cee6",
   "metadata": {},
   "outputs": [
    {
     "name": "stdout",
     "output_type": "stream",
     "text": [
      "welcome to python.2021.Python is high level language\n"
     ]
    }
   ],
   "source": [
    "print(\"welcome to python\",2021,\"Python is high level language\",sep=\".\")\n",
    "\n",
    "# will add delimitor after each statement - seperator- sep"
   ]
  },
  {
   "cell_type": "code",
   "execution_count": 30,
   "id": "66f1107f",
   "metadata": {},
   "outputs": [],
   "source": [
    "#flush - if true will clean the buffer ,if false will not do anything."
   ]
  },
  {
   "cell_type": "code",
   "execution_count": 31,
   "id": "89573a91",
   "metadata": {},
   "outputs": [
    {
     "name": "stdout",
     "output_type": "stream",
     "text": [
      "enter your nameOviya Rajendran\n"
     ]
    }
   ],
   "source": [
    "name=input(\"enter your name\")"
   ]
  },
  {
   "cell_type": "code",
   "execution_count": 33,
   "id": "1eb97b35",
   "metadata": {},
   "outputs": [
    {
     "name": "stdout",
     "output_type": "stream",
     "text": [
      "enter your age12\n"
     ]
    }
   ],
   "source": [
    "age=int(input(\"enter your age\"))"
   ]
  },
  {
   "cell_type": "code",
   "execution_count": 34,
   "id": "7b915c83",
   "metadata": {},
   "outputs": [
    {
     "name": "stdout",
     "output_type": "stream",
     "text": [
      "enter a num12\n",
      "enter a num13\n"
     ]
    },
    {
     "data": {
      "text/plain": [
       "25"
      ]
     },
     "execution_count": 34,
     "metadata": {},
     "output_type": "execute_result"
    }
   ],
   "source": [
    "a=int(input(\"enter a num\"))\n",
    "b=int(input(\"enter a num\"))\n",
    "a+b"
   ]
  },
  {
   "cell_type": "code",
   "execution_count": 35,
   "id": "c1f0dd49",
   "metadata": {},
   "outputs": [
    {
     "name": "stdout",
     "output_type": "stream",
     "text": [
      "enter a num12\n",
      "enter a num13\n"
     ]
    },
    {
     "data": {
      "text/plain": [
       "'1213'"
      ]
     },
     "execution_count": 35,
     "metadata": {},
     "output_type": "execute_result"
    }
   ],
   "source": [
    "a= input(\"enter a num\")\n",
    "b=input(\"enter a num\")\n",
    "a+b"
   ]
  },
  {
   "cell_type": "code",
   "execution_count": 36,
   "id": "cc59029b",
   "metadata": {},
   "outputs": [
    {
     "name": "stdout",
     "output_type": "stream",
     "text": [
      "enter a num12.4\n",
      "enter a num13.5\n"
     ]
    },
    {
     "data": {
      "text/plain": [
       "25.9"
      ]
     },
     "execution_count": 36,
     "metadata": {},
     "output_type": "execute_result"
    }
   ],
   "source": [
    "a=float( input(\"enter a num\"))\n",
    "b=float(input(\"enter a num\"))\n",
    "a+b"
   ]
  },
  {
   "cell_type": "code",
   "execution_count": 71,
   "id": "47348983",
   "metadata": {},
   "outputs": [
    {
     "name": "stdout",
     "output_type": "stream",
     "text": [
      "enter a num350\n"
     ]
    },
    {
     "data": {
      "text/plain": [
       "2000.0"
      ]
     },
     "execution_count": 71,
     "metadata": {},
     "output_type": "execute_result"
    }
   ],
   "source": [
    "a=float(input(\"enter a num\"))\n",
    "if a<=100:\n",
    "    l=\"No charge\"\n",
    "elif a<=200:\n",
    "    l=(a-100)*5\n",
    "elif a>200:\n",
    "    l=(a-200)*10+500\n",
    "l"
   ]
  },
  {
   "cell_type": "code",
   "execution_count": 73,
   "id": "08736679",
   "metadata": {},
   "outputs": [
    {
     "name": "stdout",
     "output_type": "stream",
     "text": [
      "The electricity consumed is 350.0 bill is2000.0\n"
     ]
    }
   ],
   "source": [
    "print(\"The electricity consumed is {1} bill is{0}\".format(l,a))"
   ]
  },
  {
   "cell_type": "code",
   "execution_count": 75,
   "id": "b76f720d",
   "metadata": {},
   "outputs": [
    {
     "name": "stdout",
     "output_type": "stream",
     "text": [
      "The electricity consumed is 2000.0 bill is350.0\n"
     ]
    }
   ],
   "source": [
    "print(\"The electricity consumed is {0} bill is{1}\".format(l,a))\n",
    "#changing the index will change the place of the variable\n"
   ]
  },
  {
   "cell_type": "markdown",
   "id": "0f5090f2",
   "metadata": {},
   "source": [
    "# Type conversion\n",
    "    explict type conversion- not done by compiler - we do mannually,eg: from into to float\n",
    "    implisit - same storage value and no data loss, done by compiler automatically."
   ]
  },
  {
   "cell_type": "code",
   "execution_count": 53,
   "id": "b333ec7c",
   "metadata": {},
   "outputs": [
    {
     "data": {
      "text/plain": [
       "11.345"
      ]
     },
     "execution_count": 53,
     "metadata": {},
     "output_type": "execute_result"
    }
   ],
   "source": [
    "e=10\n",
    "f=1.345\n",
    "sum=e+f\n",
    "sum\n",
    "#implicit type conversion - into to float"
   ]
  },
  {
   "cell_type": "code",
   "execution_count": 54,
   "id": "cf1ac9f1",
   "metadata": {},
   "outputs": [
    {
     "ename": "TypeError",
     "evalue": "can only concatenate str (not \"int\") to str",
     "output_type": "error",
     "traceback": [
      "\u001b[1;31m---------------------------------------------------------------------------\u001b[0m",
      "\u001b[1;31mTypeError\u001b[0m                                 Traceback (most recent call last)",
      "\u001b[1;32m~\\AppData\\Local\\Temp\\ipykernel_9920\\4027075952.py\u001b[0m in \u001b[0;36m<module>\u001b[1;34m\u001b[0m\n\u001b[0;32m      1\u001b[0m \u001b[0mg\u001b[0m\u001b[1;33m=\u001b[0m \u001b[1;34m'12'\u001b[0m\u001b[1;33m\u001b[0m\u001b[1;33m\u001b[0m\u001b[0m\n\u001b[0;32m      2\u001b[0m \u001b[0mh\u001b[0m\u001b[1;33m=\u001b[0m \u001b[1;36m20\u001b[0m\u001b[1;33m\u001b[0m\u001b[1;33m\u001b[0m\u001b[0m\n\u001b[1;32m----> 3\u001b[1;33m \u001b[0msum1\u001b[0m\u001b[1;33m=\u001b[0m \u001b[0mg\u001b[0m\u001b[1;33m+\u001b[0m\u001b[0mh\u001b[0m\u001b[1;33m\u001b[0m\u001b[1;33m\u001b[0m\u001b[0m\n\u001b[0m\u001b[0;32m      4\u001b[0m \u001b[0msum1\u001b[0m\u001b[1;33m\u001b[0m\u001b[1;33m\u001b[0m\u001b[0m\n",
      "\u001b[1;31mTypeError\u001b[0m: can only concatenate str (not \"int\") to str"
     ]
    }
   ],
   "source": [
    "g= '12'\n",
    "h= 20\n",
    "sum1= g+h\n",
    "sum1\n",
    "#explicit type conversion"
   ]
  },
  {
   "cell_type": "code",
   "execution_count": 55,
   "id": "04a3f45a",
   "metadata": {},
   "outputs": [
    {
     "data": {
      "text/plain": [
       "32"
      ]
     },
     "execution_count": 55,
     "metadata": {},
     "output_type": "execute_result"
    }
   ],
   "source": [
    "g= '12'\n",
    "h= 20\n",
    "sum1= int(g)+h\n",
    "sum1\n",
    "#explicit type conversion"
   ]
  },
  {
   "cell_type": "code",
   "execution_count": 56,
   "id": "d28c5c73",
   "metadata": {},
   "outputs": [
    {
     "data": {
      "text/plain": [
       "'1220'"
      ]
     },
     "execution_count": 56,
     "metadata": {},
     "output_type": "execute_result"
    }
   ],
   "source": [
    "g= '12'\n",
    "h= 20\n",
    "sum1= g+str(h)\n",
    "sum1\n",
    "#explicit type conversion"
   ]
  },
  {
   "cell_type": "code",
   "execution_count": 57,
   "id": "fe18091b",
   "metadata": {},
   "outputs": [
    {
     "data": {
      "text/plain": [
       "32.120000000000005"
      ]
     },
     "execution_count": 57,
     "metadata": {},
     "output_type": "execute_result"
    }
   ],
   "source": [
    "g= '12'\n",
    "h= 20.12\n",
    "sum1= float(g)+h\n",
    "sum1\n",
    "#explicit type conversion"
   ]
  },
  {
   "cell_type": "markdown",
   "id": "87710fa7",
   "metadata": {},
   "source": [
    "# Formated output\n",
    "    Just displays the output in form of sentance\n",
    "    "
   ]
  },
  {
   "cell_type": "code",
   "execution_count": 58,
   "id": "318301a0",
   "metadata": {},
   "outputs": [
    {
     "name": "stdout",
     "output_type": "stream",
     "text": [
      "Hi pi value is 3.124\n"
     ]
    }
   ],
   "source": [
    "i= 3.124\n",
    "print(\"Hi pi value is {}\".format(i))"
   ]
  },
  {
   "cell_type": "code",
   "execution_count": 63,
   "id": "6c6446a4",
   "metadata": {},
   "outputs": [
    {
     "name": "stdout",
     "output_type": "stream",
     "text": [
      "10 is integer and 3.240000 is float and python is string\n"
     ]
    }
   ],
   "source": [
    "j=10\n",
    "k=3.24\n",
    "c=\"python\"\n",
    "print(\"%d is integer and %f is float and %s is string\"%(j,k,c))"
   ]
  },
  {
   "cell_type": "code",
   "execution_count": 70,
   "id": "af069a8a",
   "metadata": {},
   "outputs": [
    {
     "name": "stdout",
     "output_type": "stream",
     "text": [
      "C=3.3333333333333335\n"
     ]
    }
   ],
   "source": [
    "c=10/3\n",
    "print(\"C=%0.16f\" %(c))\n",
    "#displays only  digits after the decimal"
   ]
  },
  {
   "cell_type": "markdown",
   "id": "66919d7c",
   "metadata": {},
   "source": [
    "# operators\n",
    "    Arithemetic operator\n",
    "    Assinment operators\n",
    "    Comparision operators\n",
    "    Bitwise operators\n",
    "    Logical operators\n",
    "    Special operators - id operators(to check the value of the object 1.is 2.notis & membeship operators(to check if the element is available/ present sequense in list/tupple/collection or not )"
   ]
  },
  {
   "cell_type": "markdown",
   "id": "ec2e98f3",
   "metadata": {},
   "source": [
    "# Arithemetic operator\n",
    "    + Addition\n",
    "    - Subtraction\n",
    "    *Mul\n",
    "    / Division\n",
    "    // Floor division (To get integer as out , not floating points)\n",
    "    % Modulo\n",
    "    ** Power"
   ]
  },
  {
   "cell_type": "code",
   "execution_count": 5,
   "id": "7f363c13",
   "metadata": {},
   "outputs": [
    {
     "name": "stdout",
     "output_type": "stream",
     "text": [
      "20\n",
      "12\n",
      "14\n",
      "21\n"
     ]
    },
    {
     "data": {
      "text/plain": [
       "-12"
      ]
     },
     "execution_count": 5,
     "metadata": {},
     "output_type": "execute_result"
    }
   ],
   "source": [
    "c= int(input(\"\"))\n",
    "d= int(input(\"\"))\n",
    "e= int(input(\"\"))\n",
    "f= int(input(\"\"))\n",
    "g=((c+d)*(e-f))//c\n",
    "g"
   ]
  },
  {
   "cell_type": "markdown",
   "id": "df28a1bd",
   "metadata": {},
   "source": [
    "# Comparision operators\n",
    "    "
   ]
  },
  {
   "cell_type": "markdown",
   "id": "b969718d",
   "metadata": {},
   "source": [
    "Two int values from user and print greatest amoung them ."
   ]
  },
  {
   "cell_type": "code",
   "execution_count": 4,
   "id": "d30a38cf",
   "metadata": {},
   "outputs": [
    {
     "name": "stdout",
     "output_type": "stream",
     "text": [
      "13\n",
      "15\n",
      "15\n"
     ]
    }
   ],
   "source": [
    "a= int(input(\"\"))\n",
    "b= int(input(\"\"))\n",
    "if a>b:\n",
    "    print(a)\n",
    "else:\n",
    "    print(b)"
   ]
  },
  {
   "cell_type": "markdown",
   "id": "fcfead0b",
   "metadata": {},
   "source": [
    "# Bitwise operatoes\n",
    "    & AND\n",
    "    | OR\n",
    "      NOT\n",
    "    ^ XOR\n",
    "    >> right shift (move the next x values to right sides - x>>2= 2(0000 890092 28390)->  00 000 89...\n",
    "    << left shift "
   ]
  },
  {
   "cell_type": "markdown",
   "id": "a3368920",
   "metadata": {},
   "source": [
    "# Special Operatoes\n",
    "    identity operators:\n",
    "     is -is True\n",
    "     is not - \n"
   ]
  },
  {
   "cell_type": "code",
   "execution_count": 8,
   "id": "02fe8eea",
   "metadata": {},
   "outputs": [
    {
     "name": "stdout",
     "output_type": "stream",
     "text": [
      "False\n",
      "True\n",
      "False\n"
     ]
    }
   ],
   "source": [
    "x1=5\n",
    "y1=5\n",
    "x2='HEllo'\n",
    "y2='HEllo'\n",
    "x3=[1,2,3]\n",
    "y3=[1,2,3]\n",
    "\n",
    "print(x1 is not y1)\n",
    "\n",
    "print(x2 is y2)\n",
    "\n",
    "print (x3 is y3) #We created list so the pointer points differnet memory location"
   ]
  },
  {
   "cell_type": "code",
   "execution_count": 9,
   "id": "136b9240",
   "metadata": {},
   "outputs": [
    {
     "data": {
      "text/plain": [
       "2084104875584"
      ]
     },
     "execution_count": 9,
     "metadata": {},
     "output_type": "execute_result"
    }
   ],
   "source": [
    "id(x3)\n"
   ]
  },
  {
   "cell_type": "code",
   "execution_count": 10,
   "id": "47153549",
   "metadata": {},
   "outputs": [
    {
     "data": {
      "text/plain": [
       "2084104059072"
      ]
     },
     "execution_count": 10,
     "metadata": {},
     "output_type": "execute_result"
    }
   ],
   "source": [
    "id(y3)\n"
   ]
  },
  {
   "cell_type": "code",
   "execution_count": 11,
   "id": "3f9d1eb0",
   "metadata": {},
   "outputs": [
    {
     "data": {
      "text/plain": [
       "2084021365168"
      ]
     },
     "execution_count": 11,
     "metadata": {},
     "output_type": "execute_result"
    }
   ],
   "source": [
    "id(x1)"
   ]
  },
  {
   "cell_type": "code",
   "execution_count": 12,
   "id": "66af7f6a",
   "metadata": {},
   "outputs": [
    {
     "data": {
      "text/plain": [
       "2084021365168"
      ]
     },
     "execution_count": 12,
     "metadata": {},
     "output_type": "execute_result"
    }
   ],
   "source": [
    "id(y1)"
   ]
  },
  {
   "cell_type": "code",
   "execution_count": 13,
   "id": "aa407ee2",
   "metadata": {},
   "outputs": [
    {
     "name": "stdout",
     "output_type": "stream",
     "text": [
      "True\n"
     ]
    }
   ],
   "source": [
    "l1=[1,2,3]\n",
    "print(1 in l1)"
   ]
  },
  {
   "cell_type": "code",
   "execution_count": 14,
   "id": "247052c2",
   "metadata": {},
   "outputs": [
    {
     "name": "stdout",
     "output_type": "stream",
     "text": [
      "True\n"
     ]
    }
   ],
   "source": [
    "print(4 not in l1)"
   ]
  },
  {
   "cell_type": "markdown",
   "id": "1ceae9ad",
   "metadata": {},
   "source": [
    "create a list of 10 numbers thn check if the number is even r odd,if even check if its available in the list or not"
   ]
  },
  {
   "cell_type": "code",
   "execution_count": 17,
   "id": "af884307",
   "metadata": {},
   "outputs": [
    {
     "name": "stdout",
     "output_type": "stream",
     "text": [
      "3\n",
      "Number is odd\n"
     ]
    }
   ],
   "source": [
    "l1=[4,7,8,11,13,14,16,17,18,20]\n",
    "a= int(input(\"\"))\n",
    "if a%2==0:\n",
    "    print(a in l1)\n",
    "else:\n",
    "    print(\"Number is odd\")\n",
    "    "
   ]
  },
  {
   "cell_type": "code",
   "execution_count": null,
   "id": "4ccf6c56",
   "metadata": {},
   "outputs": [],
   "source": []
  },
  {
   "cell_type": "code",
   "execution_count": null,
   "id": "d2cb5437",
   "metadata": {},
   "outputs": [],
   "source": []
  },
  {
   "cell_type": "code",
   "execution_count": null,
   "id": "4a4dc6f9",
   "metadata": {},
   "outputs": [],
   "source": []
  },
  {
   "cell_type": "code",
   "execution_count": null,
   "id": "5966251c",
   "metadata": {},
   "outputs": [],
   "source": []
  }
 ],
 "metadata": {
  "kernelspec": {
   "display_name": "Python 3 (ipykernel)",
   "language": "python",
   "name": "python3"
  },
  "language_info": {
   "codemirror_mode": {
    "name": "ipython",
    "version": 3
   },
   "file_extension": ".py",
   "mimetype": "text/x-python",
   "name": "python",
   "nbconvert_exporter": "python",
   "pygments_lexer": "ipython3",
   "version": "3.9.13"
  }
 },
 "nbformat": 4,
 "nbformat_minor": 5
}
